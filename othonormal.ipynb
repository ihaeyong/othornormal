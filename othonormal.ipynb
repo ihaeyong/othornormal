{
 "cells": [
  {
   "cell_type": "markdown",
   "metadata": {},
   "source": [
    "# othonormal set \n",
    "https://stackoverflow.com/questions/38426349/how-to-create-random-orthonormal-matrix-in-python-numpy\n",
    "You can obtain a random n x n orthogonal matrix Q, (uniformly distributed over the manifold of n x n orthogonal matrices) by performing a QR factorization of an n x n matrix with elements i.i.d. Gaussian random variables of mean 0 and variance 1. Here is an example:"
   ]
  },
  {
   "cell_type": "code",
   "execution_count": 9,
   "metadata": {},
   "outputs": [
    {
     "name": "stdout",
     "output_type": "stream",
     "text": [
      "random n x n othogonal matrix:\n",
      "[[-0.46953914  0.45903383 -0.75420219]\n",
      " [ 0.66552679 -0.3773131  -0.64397897]\n",
      " [-0.5801785  -0.8043151  -0.12833605]]\n",
      "Gaussian random variabels of mean 0 and variance 1:\n",
      "[[-2.80483068  0.70954093  0.08727525]\n",
      " [ 0.          1.80242019 -0.25421399]\n",
      " [ 0.          0.         -0.10253017]]\n",
      "Innerdot products:\n",
      "[[1.00000000e+00 2.21147983e-17 9.44264275e-17]\n",
      " [2.21147983e-17 1.00000000e+00 3.98563306e-16]\n",
      " [9.44264275e-17 3.98563306e-16 1.00000000e+00]]\n"
     ]
    }
   ],
   "source": [
    "import numpy as np\n",
    "from scipy.linalg import qr\n",
    "\n",
    "n = 3\n",
    "H = np.random.randn(n, n)\n",
    "Q, R = qr(H)\n",
    "\n",
    "print (\"random n x n othogonal matrix:\\n{}\".format(Q))\n",
    "\n",
    "print (\"Gaussian random variabels of mean 0 and variance 1:\\n{}\".format(R))\n",
    "\n",
    "print (\"Innerdot products:\\n{}\".format(Q.dot(Q.T)))"
   ]
  },
  {
   "cell_type": "markdown",
   "metadata": {},
   "source": [
    "EDIT: (Revisiting this answer after the comment by @g g.) The claim above on the QR decomposition of a Gaussian matrix providing a uniformly distributed (over the, so called, Stiefel manifold) orthogonal matrix is suggested by Theorems 2.3.18-19 of this reference. Note that the statement of the result suggests a \"QR-like\" decomposition, however, with the triangular matrix R having positive elements.\n",
    "\n",
    "Apparently, the qr function of scipy (numpy) function does not guarantee positive diagonal elements for R and the corresponding Q is actually not uniformly distributed. This has been observed in this monograph, Sec. 4.6 (the discussion refers to MATLAB, but I guess both MATLAB and scipy use the same LAPACK routines). It is suggested there that the matrix Q provided by qr is modified by post multiplying it with a random unitary diagonal matrix.\n",
    "\n",
    "Below I reproduce the experiment in the above reference, plotting the empirical distribution (histogram) of phases of eigenvalues of the \"direct\" Q matrix provided by qr, as well as the \"modified\" version, where it is seen that the modified version does indeed have a uniform eigenvalue phase, as would be expected from a uniformly distributed orthogonal matrix."
   ]
  },
  {
   "cell_type": "code",
   "execution_count": 15,
   "metadata": {},
   "outputs": [
    {
     "data": {
      "image/png": "[encoded data removed]",
      "text/plain": [
       "<Figure size 720x216 with 2 Axes>"
      ]
     },
     "metadata": {
      "needs_background": "light"
     },
     "output_type": "display_data"
    }
   ],
   "source": [
    "from scipy.linalg import qr, eigvals\n",
    "from seaborn import distplot\n",
    "import matplotlib.pyplot as plt\n",
    "\n",
    "n = 50\n",
    "repeats = 100\n",
    "\n",
    "angles = []\n",
    "angles_modified = []\n",
    "for rp in range(repeats):\n",
    "    H = np.random.randn(n, n)\n",
    "    Q, R = qr(H)\n",
    "    angles.append(np.angle(eigvals(Q)))\n",
    "    Q_modified = Q @ np.diag(np.exp(1j * np.pi * 2 * np.random.rand(n)))\n",
    "    angles_modified.append(np.angle(eigvals(Q_modified))) \n",
    "\n",
    "fig, ax = plt.subplots(1,2, figsize = (10,3))\n",
    "distplot(np.asarray(angles).flatten(),kde = False, hist_kws=dict(edgecolor=\"k\", linewidth=2), ax= ax[0])\n",
    "ax[0].set(xlabel='phase', title='direct')\n",
    "distplot(np.asarray(angles_modified).flatten(),kde = False, hist_kws=dict(edgecolor=\"k\", linewidth=2), ax= ax[1])\n",
    "ax[1].set(xlabel='phase', title='modified');"
   ]
  },
  {
   "cell_type": "code",
   "execution_count": null,
   "metadata": {},
   "outputs": [],
   "source": []
  }
 ],
 "metadata": {
  "kernelspec": {
   "display_name": "Python 3",
   "language": "python",
   "name": "python3"
  },
  "language_info": {
   "codemirror_mode": {
    "name": "ipython",
    "version": 3
   },
   "file_extension": ".py",
   "mimetype": "text/x-python",
   "name": "python",
   "nbconvert_exporter": "python",
   "pygments_lexer": "ipython3",
   "version": "3.6.7"
  }
 },
 "nbformat": 4,
 "nbformat_minor": 2
}
